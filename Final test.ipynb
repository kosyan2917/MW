{
 "cells": [
  {
   "cell_type": "code",
   "execution_count": 2,
   "metadata": {
    "collapsed": true
   },
   "outputs": [],
   "source": [
    "import pandas as pd"
   ]
  },
  {
   "cell_type": "code",
   "execution_count": 8,
   "outputs": [
    {
     "name": "stdout",
     "output_type": "stream",
     "text": [
      "   DepId   Name\n",
      "0    0.0  Julia\n",
      "1    2.0  Fedor\n",
      "2    NaN   Alex\n",
      "3    2.0  Sveta\n",
      "   DepName\n",
      "0  kitchen\n",
      "1      bar\n",
      "2    admin\n",
      "   DepId   Name  DepName\n",
      "0    0.0  Julia  kitchen\n",
      "1    2.0  Fedor    admin\n",
      "3    2.0  Sveta    admin\n",
      "3    1.0    NaN      bar\n"
     ]
    }
   ],
   "source": [
    "data1 = {'Name': ['Julia', 'Fedor', 'Alex', 'Sveta'],\n",
    "         'DepId':[0, 2, None, 2]}\n",
    "data1 = pd.DataFrame(data1)\n",
    "data2 = {'DepName': ['kitchen', 'bar', 'admin']}\n",
    "data2 = pd.DataFrame(data2)\n",
    "print(data1)\n",
    "print(data2)\n",
    "data_join = data1.join(data2, on='DepId', how='right')\n",
    "print(data_join)\n"
   ],
   "metadata": {
    "collapsed": false,
    "pycharm": {
     "name": "#%%\n"
    }
   }
  },
  {
   "cell_type": "code",
   "execution_count": null,
   "outputs": [],
   "source": [],
   "metadata": {
    "collapsed": false,
    "pycharm": {
     "name": "#%%\n"
    }
   }
  }
 ],
 "metadata": {
  "kernelspec": {
   "display_name": "Python 3",
   "language": "python",
   "name": "python3"
  },
  "language_info": {
   "codemirror_mode": {
    "name": "ipython",
    "version": 2
   },
   "file_extension": ".py",
   "mimetype": "text/x-python",
   "name": "python",
   "nbconvert_exporter": "python",
   "pygments_lexer": "ipython2",
   "version": "2.7.6"
  }
 },
 "nbformat": 4,
 "nbformat_minor": 0
}